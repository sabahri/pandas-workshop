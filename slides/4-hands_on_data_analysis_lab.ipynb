{
 "cells": [
  {
   "cell_type": "markdown",
   "id": "cd969b0d-8764-468e-9ab1-0e7aabbdfa1b",
   "metadata": {
    "editable": true,
    "slideshow": {
     "slide_type": "slide"
    },
    "tags": [
     "id_section-4"
    ]
   },
   "source": [
    "# Section 4: Hands-On Data Analysis Lab\n",
    "\n",
    "We will practice all that you’ve learned in a hands-on lab. This section features a set of analysis tasks that provide opportunities to apply the material from the previous sections.\n",
    "\n",
    "<div style=\"text-align: center;\">\n",
    "<img width=\"20%\" src=\"https://www.pngkey.com/png/detail/102-1027124_animals-pandas-panda-transparent-background.png\" alt=\"Animals - Pandas - Panda Transparent Background@pngkey.com\" style=\"min-width: 200px\">\n",
    "</div>"
   ]
  },
  {
   "cell_type": "markdown",
   "id": "7e2335f9-c4d8-4fa8-bbe1-eeabf813234e",
   "metadata": {
    "slideshow": {
     "slide_type": "slide"
    },
    "tags": []
   },
   "source": [
    "## Lab Tasks\n",
    "\n",
    "[This](https://forms.gle/wnyDZwCjgvn9fuHK9) Google form contains all the tasks for this lab. You can submit as many times as you wish, and you will be able to see which questions you got wrong (if any)."
   ]
  },
  {
   "cell_type": "markdown",
   "id": "18ff7cfd-ab75-4858-a1e5-1ea8613d545b",
   "metadata": {
    "slideshow": {
     "slide_type": "fragment"
    },
    "tags": []
   },
   "source": [
    "#### Important notes:\n",
    "- You don't have to answer all the questions to submit.\n",
    "- There are likely more questions than you will have time to answer, so be sure to submit before the session ends."
   ]
  },
  {
   "cell_type": "markdown",
   "id": "87f2f8d9-4f35-431a-abcd-a0819e4fc47c",
   "metadata": {
    "editable": true,
    "slideshow": {
     "slide_type": "slide"
    },
    "tags": []
   },
   "source": [
    "## Section 4 Complete 🎉\n",
    "<img width=\"30%\" src=\"https://www.pngkey.com/png/detail/246-2469554_panda-anime-png-png-panda.png\" alt=\"Panda Anime Png - Png Panda@pngkey.com\" style=\"min-width: 300px\">"
   ]
  }
 ],
 "metadata": {
  "kernelspec": {
   "display_name": "Python 3 (ipykernel)",
   "language": "python",
   "name": "python3"
  },
  "language_info": {
   "codemirror_mode": {
    "name": "ipython",
    "version": 3
   },
   "file_extension": ".py",
   "mimetype": "text/x-python",
   "name": "python",
   "nbconvert_exporter": "python",
   "pygments_lexer": "ipython3",
   "version": "3.13.3"
  }
 },
 "nbformat": 4,
 "nbformat_minor": 5
}
