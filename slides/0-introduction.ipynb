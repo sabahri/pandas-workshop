{
 "cells": [
  {
   "cell_type": "markdown",
   "id": "73de9609-9539-483a-a930-1f1b12b79a55",
   "metadata": {
    "slideshow": {
     "slide_type": "skip"
    },
    "tags": []
   },
   "source": [
    "[![View slides in browser](https://img.shields.io/badge/view-slides-orange?logo=reveal.js&logoColor=white)](https://stefaniemolin.com/pandas-workshop/)\n",
    "\n",
    "---\n",
    "\n",
    "\n"
   ]
  },
  {
   "cell_type": "markdown",
   "id": "8b7dfb40-1ef0-4621-89c3-87c5b226c023",
   "metadata": {
    "slideshow": {
     "slide_type": "slide"
    },
    "tags": [
     "id_intro"
    ]
   },
   "source": [
    "# Introduction to Data Analysis Using Pandas\n",
    "\n",
    "### Stefanie Molin"
   ]
  },
  {
   "cell_type": "markdown",
   "id": "d4e1f7fe-9777-477f-b361-08e448f03af7",
   "metadata": {
    "slideshow": {
     "slide_type": "subslide"
    },
    "tags": [
     "id_bio"
    ]
   },
   "source": [
    "## Bio\n",
    "\n",
    "- 👩‍💻 Software engineer at Bloomberg in NYC\n",
    "- 🚀 Core developer of [numpydoc](https://github.com/numpy/numpydoc)\n",
    "- ✍️ Author of [Hands-On Data Analysis with Pandas](https://www.amazon.com/Hands-Data-Analysis-Pandas-visualization-dp-1800563450/dp/1800563450/) (currently in its second edition; translated into Korean and Simplified Chinese)\n",
    "- 🎓 Bachelor's degree in operations research from Columbia University\n",
    "- 🎓 Master's degree in computer science (ML specialization) from Georgia Tech"
   ]
  },
  {
   "cell_type": "markdown",
   "id": "0345e6e4-5c39-4c57-96d5-4b3980fe2e67",
   "metadata": {
    "slideshow": {
     "slide_type": "slide"
    },
    "tags": [
     "id_prerequisites"
    ]
   },
   "source": [
    "### Prerequisites\n",
    "- To follow along with this workshop, you will need to either configure a local environment or use a cloud solution like GitHub Codespaces. Consult the [README](https://github.com/stefmolin/pandas-workshop#setup-instructions) for step-by-step setup instructions.\n",
    "- In addition, you should have basic knowledge of Python and be comfortable working in Jupyter Notebooks; if not, check out the resources [here](https://github.com/stefmolin/pandas-workshop#prerequisites) to get up to speed."
   ]
  },
  {
   "cell_type": "markdown",
   "id": "6134e4a8-f4c8-4698-b970-d2e83ea9d922",
   "metadata": {
    "slideshow": {
     "slide_type": "slide"
    },
    "tags": [
     "id_session-outline"
    ]
   },
   "source": [
    "### Session Outline\n",
    "1. Getting Started With Pandas\n",
    "2. Data Wrangling\n",
    "3. Data Visualization\n",
    "4. Hands-On Data Analysis Lab"
   ]
  },
  {
   "cell_type": "markdown",
   "id": "def73df3-56b3-45a1-a157-2bb3488abef9",
   "metadata": {
    "slideshow": {
     "slide_type": "slide"
    },
    "tags": [
     "id_follow-along"
    ]
   },
   "source": [
    "## Let's get started\n",
    "\n",
    "*Be sure to follow along in the [notebooks](https://github.com/stefmolin/pandas-workshop/tree/main/notebooks).*\n",
    "\n",
    "<img width=\"30%\" src=\"https://www.pngkey.com/png/detail/42-428839_silhouette-face-bamboo-cartoon-wild-bear-cute-panda.png\" alt=\"Silhouette, Face, Bamboo, Cartoon, Wild, Bear, Cute - Panda Black And White@pngkey.com\" style=\"min-width: 300px\">"
   ]
  }
 ],
 "metadata": {
  "kernelspec": {
   "display_name": "Python 3 (ipykernel)",
   "language": "python",
   "name": "python3"
  },
  "language_info": {
   "codemirror_mode": {
    "name": "ipython",
    "version": 3
   },
   "file_extension": ".py",
   "mimetype": "text/x-python",
   "name": "python",
   "nbconvert_exporter": "python",
   "pygments_lexer": "ipython3",
   "version": "3.13.3"
  }
 },
 "nbformat": 4,
 "nbformat_minor": 5
}
