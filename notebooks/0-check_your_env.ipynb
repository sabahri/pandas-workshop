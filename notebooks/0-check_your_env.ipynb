{
 "cells": [
  {
   "cell_type": "markdown",
   "metadata": {},
   "source": [
    "# Checking your setup\n",
    "Run through this notebook to make sure your environment is properly setup. Be sure to launch Jupyter from inside the virtual environment."
   ]
  },
  {
   "cell_type": "code",
   "execution_count": 2,
   "metadata": {},
   "outputs": [
    {
     "name": "stdout",
     "output_type": "stream",
     "text": [
      "[ OK ] Python\n",
      "[ OK ] jupyterlab\n",
      "[ OK ] matplotlib\n",
      "[ OK ] numpy\n",
      "[ OK ] pandas\n",
      "[ OK ] requests\n",
      "[ OK ] scipy\n",
      "[ OK ] seaborn\n"
     ]
    }
   ],
   "source": [
    "from check_env import run_env_check\n",
    "run_env_check()"
   ]
  },
  {
   "cell_type": "markdown",
   "metadata": {},
   "source": [
    "*Note: Adapted from Andreas Mueller's [`check_env.ipynb` notebook](https://github.com/amueller/ml-workshop-1-of-4/blob/master/check_env.ipynb).*"
   ]
  }
 ],
 "metadata": {
  "kernelspec": {
   "display_name": "Python 3 (ipykernel)",
   "language": "python",
   "name": "python3"
  },
  "language_info": {
   "codemirror_mode": {
    "name": "ipython",
    "version": 3
   },
   "file_extension": ".py",
   "mimetype": "text/x-python",
   "name": "python",
   "nbconvert_exporter": "python",
   "pygments_lexer": "ipython3",
   "version": "3.10.18"
  }
 },
 "nbformat": 4,
 "nbformat_minor": 4
}
